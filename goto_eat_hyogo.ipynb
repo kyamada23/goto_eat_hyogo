{
 "cells": [
  {
   "cell_type": "code",
   "execution_count": 1,
   "metadata": {
    "scrolled": true
   },
   "outputs": [
    {
     "name": "stdout",
     "output_type": "stream",
     "text": [
      "page: 10\n"
     ]
    }
   ],
   "source": [
    "import csv\n",
    "import datetime\n",
    "import requests\n",
    "from bs4 import BeautifulSoup as bs4\n",
    "import re\n",
    "\n",
    "search_word=\"伊丹\"\n",
    "\n",
    "csv_date = datetime.datetime.today().strftime(\"%Y%m%d\")\n",
    "csv_filename = \"goteat_itami\" + csv_date + \".csv\"\n",
    "f = open(csv_filename, mode = 'w', encoding='utf-8', errors = 'ignore')\n",
    "writer = csv.writer(f, lineterminator = '\\n')\n",
    "\n",
    "# CSVヘッダー\n",
    "csv_header = [\"店名 \", \"住所\", \"電話\", \"営業時間\", \"Webサイト\", \"メモ\"]\n",
    "writer.writerow(csv_header)\n",
    "\n",
    "for i in range(100):\n",
    "    page = i + 1\n",
    "    # html情報取得・解析\n",
    "    url =\"https://gotoeat-hyogo.com/search/result\"\n",
    "    param = {\"keyword\" : search_word, \"page\" : page} #「伊丹」検索\n",
    "    res = requests.get(url, param)\n",
    "    search_result = bs4( res.text, \"html.parser\")\n",
    "    \n",
    "    # 店舗名、店舗住所の取得\n",
    "    store_list = search_result.select(\"div.search-results-list-box\")\n",
    "    if(len(store_list) == 0):\n",
    "        print(\"page:\", i)\n",
    "        break\n",
    "    \n",
    "    for store in store_list:\n",
    "        #店名\n",
    "        store_name = store.select(\"p.search-results-list-name\")[0].text\n",
    "        #住所\n",
    "        store_address = store.select(\"p.search-results-list-p01\")[0].text.replace(\" \", \"\").replace(\"\\n\", \"\").replace(\"住所：\", \"\")\n",
    "        store_address = re.sub('(〒[0-9]{3}-[0-9]{4})', \"\", store_address)\n",
    "        #電話番号\n",
    "        store_tel_number = store.select(\"p.search-results-list-p01\")[1].text.replace(\" \", \"\").replace(\"\\n\", \"\").replace(\"TEL:\", \"\")\n",
    "        \n",
    "        #詳細ページ解析\n",
    "        store_detail_url = store.select(\"p.search-results-list-btn a\")[0][\"href\"]\n",
    "        store_res = requests.get(store_detail_url)\n",
    "        store_detail = bs4( store_res.text, \"html.parser\")\n",
    "        store_detail_table = store_detail.select(\"table.shop-detail-info-table\")\n",
    "        \n",
    "        #営業時間\n",
    "        store_business_hours_title = store_detail_table[0].find(\"th\", text=\"営業時間\")\n",
    "        store_business_hours = store_business_hours_title.next_sibling.next_sibling.text if store_business_hours_title else \"\"\n",
    "        #Webサイト\n",
    "        store_web_title = store_detail_table[0].find(\"th\", text=\"URL\")\n",
    "        store_web = store_web_title.next_sibling.next_sibling.text if store_web_title else \"\"\n",
    "        #メモ(定休日)\n",
    "        store_regular_holiday_title = store_detail_table[0].find(\"th\", text=\"定休日\")\n",
    "        store_memo = \"定休日:\" + store_regular_holiday_title.next_sibling.next_sibling.text if store_regular_holiday_title else \"\"\n",
    "        \n",
    "        csv_list = []\n",
    "        csv_list.append(store_name)\n",
    "        csv_list.append(store_address)\n",
    "        csv_list.append(store_tel_number)\n",
    "        csv_list.append(store_business_hours)\n",
    "        csv_list.append(store_web)\n",
    "        csv_list.append(store_memo)\n",
    "        writer.writerow(csv_list)\n",
    "\n",
    "f.close()"
   ]
  }
 ],
 "metadata": {
  "kernelspec": {
   "display_name": "Python 3",
   "language": "python",
   "name": "python3"
  },
  "language_info": {
   "codemirror_mode": {
    "name": "ipython",
    "version": 3
   },
   "file_extension": ".py",
   "mimetype": "text/x-python",
   "name": "python",
   "nbconvert_exporter": "python",
   "pygments_lexer": "ipython3",
   "version": "3.9.0"
  }
 },
 "nbformat": 4,
 "nbformat_minor": 4
}
